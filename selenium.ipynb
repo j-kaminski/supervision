{
 "cells": [
  {
   "cell_type": "code",
   "execution_count": 3,
   "metadata": {
    "collapsed": true,
    "pycharm": {
     "name": "#%%\n"
    }
   },
   "outputs": [],
   "source": [
    "from selenium import webdriver\n",
    "from selenium.webdriver.common.keys import Keys\n",
    "from selenium.webdriver.common.by import By\n",
    "\n",
    "driver = webdriver.Chrome()\n",
    "driver.get(\"http://www.python.org\")\n",
    "assert \"Python\" in driver.title\n",
    "elem = driver.find_element(By.NAME, \"q\")\n",
    "elem.clear()\n",
    "elem.send_keys(\"pycon\")\n",
    "elem.send_keys(Keys.RETURN)\n",
    "assert \"No results found.\" not in driver.page_source\n",
    "driver.close()"
   ]
  },
  {
   "cell_type": "code",
   "execution_count": null,
   "outputs": [],
   "source": [
    "# Features Group Phishing Websites Features\n",
    "# URL & Domain Identity 1 Using the IP Address\n",
    "# 2 Long URL to Hide the Suspicious Part\n",
    "# 3 Using URL Shortening Services ”TinyURL”\n",
    "# 4 RL’s having ”@” Symbol\n",
    "# 5 Redirecting using ”//”\n",
    "# 6 Adding Prefix or Suffix Separated by (-) to the Domain\n",
    "# 7 Sub Domain and Multi-Sub Domains\n",
    "# 8 HTTPS (HyperText Transfer Protocol with Secure Sockets Layer)\n",
    "# 9 Domain Registration Length\n",
    "# 10 Favicon\n",
    "# 11 Using Non-Standard Port\n",
    "# 12 The Existence of ”HTTPS” Token in the Domain Part of the URL\n",
    "# Abnormal\n",
    "# Based\n",
    "# Features\n",
    "# 13 Request URL\n",
    "# 14 URL of Anchor\n",
    "# 15 Links in <Meta>, <Script>and <Link>tags\n",
    "# 16 Server Form Handler (SFH)\n",
    "# 17 Submitting Information to E-mail\n",
    "# 18 Abnormal URL\n",
    "# HTML and\n",
    "# JavaScript-based Features\n",
    "# 19 Website Forwarding\n",
    "# 20 Status Bar Customization\n",
    "# 21 Disabling Right Click\n",
    "# 22 Using Pop-up Window\n",
    "# 23 IFrame Redirection\n",
    "# Domain-based Features 24 Age of Domain\n",
    "# 25 DNS Record\n",
    "# 26 Website Traffic\n",
    "# 27 PageRank\n",
    "# 28 Google Index\n",
    "# 29 Number of Links Pointing to Page\n",
    "# 30 Statistical-Reports Based Featur"
   ],
   "metadata": {
    "collapsed": false,
    "pycharm": {
     "name": "#%%\n"
    }
   }
  },
  {
   "cell_type": "code",
   "execution_count": null,
   "outputs": [],
   "source": [
    "class EssentialCheck:\n",
    "    def run_checks(self):\n",
    "        # check ip and location\n",
    "        # long url\n",
    "        # short tokens\n",
    "        pass"
   ],
   "metadata": {
    "collapsed": false,
    "pycharm": {
     "name": "#%%\n"
    }
   }
  },
  {
   "cell_type": "code",
   "execution_count": 9,
   "outputs": [
    {
     "name": "stdout",
     "output_type": "stream",
     "text": [
      "[[0.92630217]]\n"
     ]
    }
   ],
   "source": [
    "from sklearn.feature_extraction.text import TfidfVectorizer\n",
    "from sklearn.metrics.pairwise import cosine_similarity\n",
    "\n",
    "legit_tokens = [\n",
    "    \"credit-agricole pl\"\n",
    "]\n",
    "\n",
    "tfidf_vectorizer = TfidfVectorizer(analyzer='char')\n",
    "tfidf_matrix = tfidf_vectorizer.fit_transform(legit_tokens)\n",
    "\n",
    "query_tfidf = tfidf_vectorizer.transform(['ca24kredlt-agricolle one'])\n",
    "cos_sim = cosine_similarity(query_tfidf, tfidf_matrix)\n",
    "print(cos_sim)"
   ],
   "metadata": {
    "collapsed": false,
    "pycharm": {
     "name": "#%%\n"
    }
   }
  },
  {
   "cell_type": "code",
   "execution_count": null,
   "outputs": [],
   "source": [],
   "metadata": {
    "collapsed": false,
    "pycharm": {
     "name": "#%%\n"
    }
   }
  }
 ],
 "metadata": {
  "kernelspec": {
   "display_name": "Python 3",
   "language": "python",
   "name": "python3"
  },
  "language_info": {
   "codemirror_mode": {
    "name": "ipython",
    "version": 2
   },
   "file_extension": ".py",
   "mimetype": "text/x-python",
   "name": "python",
   "nbconvert_exporter": "python",
   "pygments_lexer": "ipython2",
   "version": "2.7.6"
  }
 },
 "nbformat": 4,
 "nbformat_minor": 0
}