{
 "cells": [
  {
   "cell_type": "code",
   "execution_count": 39,
   "metadata": {},
   "outputs": [],
   "source": [
    "import cv2\n",
    "import numpy as np\n",
    "from skimage.metrics import structural_similarity\n",
    "from sklearn.metrics.pairwise import cosine_similarity"
   ]
  },
  {
   "cell_type": "code",
   "execution_count": 40,
   "metadata": {},
   "outputs": [],
   "source": [
    "scam = cv2.imread('assets/alior-scam.png')\n",
    "legit = cv2.imread('assets/alior-legit.png')\n",
    "\n",
    "# Convert images to grayscale\n",
    "gray_scam = cv2.cvtColor(scam, cv2.COLOR_BGR2GRAY)\n",
    "gray_legit = cv2.cvtColor(legit, cv2.COLOR_BGR2GRAY)"
   ]
  },
  {
   "cell_type": "code",
   "execution_count": 41,
   "metadata": {},
   "outputs": [
    {
     "name": "stdout",
     "output_type": "stream",
     "text": [
      "Image Similarity: 89.1400%\n"
     ]
    }
   ],
   "source": [
    "(score, diff) = structural_similarity(gray_scam, gray_legit, full=True)\n",
    "print(\"Image Similarity: {:.4f}%\".format(score * 100))"
   ]
  },
  {
   "cell_type": "code",
   "execution_count": 42,
   "metadata": {},
   "outputs": [],
   "source": [
    "blue_legit = cv2.calcHist([legit], [0], None, [256], [0, 256])\n",
    "red_legit = cv2.calcHist([legit], [1], None, [256], [0, 256])\n",
    "green_legit = cv2.calcHist([legit], [2], None, [256], [0, 256])\n",
    "\n",
    "blue_scam = cv2.calcHist([scam], [0], None, [256], [0, 256])\n",
    "red_scam = cv2.calcHist([scam], [1], None, [256], [0, 256])\n",
    "green_scam = cv2.calcHist([scam], [2], None, [256], [0, 256])"
   ]
  },
  {
   "cell_type": "code",
   "execution_count": 43,
   "metadata": {},
   "outputs": [],
   "source": [
    "blue_similarity = cosine_similarity([blue_legit.flatten()], [blue_scam.flatten()])\n",
    "red_similarity = cosine_similarity([red_legit.flatten()], [red_scam.flatten()])\n",
    "green_similarity = cosine_similarity([green_legit.flatten()], [green_scam.flatten()])"
   ]
  },
  {
   "cell_type": "code",
   "execution_count": 44,
   "metadata": {},
   "outputs": [
    {
     "name": "stdout",
     "output_type": "stream",
     "text": [
      "[0.99996716] [0.9999795] [0.99997133]\n"
     ]
    }
   ],
   "source": [
    "print(blue_similarity.flatten(), red_similarity.flatten(), green_similarity.flatten())"
   ]
  },
  {
   "cell_type": "code",
   "execution_count": 45,
   "metadata": {},
   "outputs": [],
   "source": [
    "gray_legit = cv2.calcHist([scam], [0], None, [256], [0, 256])\n",
    "gray_scam = cv2.calcHist([scam], [0], None, [256], [0, 256])"
   ]
  },
  {
   "cell_type": "code",
   "execution_count": 46,
   "metadata": {},
   "outputs": [
    {
     "name": "stdout",
     "output_type": "stream",
     "text": [
      "[0.9999999]\n"
     ]
    }
   ],
   "source": [
    "gray_similarity = cosine_similarity([gray_legit.flatten()], [gray_scam.flatten()])\n",
    "print(gray_similarity.flatten())"
   ]
  }
 ],
 "metadata": {
  "kernelspec": {
   "display_name": "Python 3.10.6 ('.venv': venv)",
   "language": "python",
   "name": "python3"
  },
  "language_info": {
   "codemirror_mode": {
    "name": "ipython",
    "version": 3
   },
   "file_extension": ".py",
   "mimetype": "text/x-python",
   "name": "python",
   "nbconvert_exporter": "python",
   "pygments_lexer": "ipython3",
   "version": "3.10.6"
  },
  "orig_nbformat": 4,
  "vscode": {
   "interpreter": {
    "hash": "c18aab258858c615db0286f470b55214932178d54be267c512f97a8855c82418"
   }
  }
 },
 "nbformat": 4,
 "nbformat_minor": 2
}
